{
 "cells": [
  {
   "cell_type": "code",
   "execution_count": 68,
   "metadata": {},
   "outputs": [],
   "source": [
    "import pandas as pd\n",
    "\n",
    "# VERSION = 'v1.1'\n",
    "# VERSION = 'v1.2'\n",
    "# data = pd.read_csv(f'sample_processed_internal_test_50_{VERSION}.csv')\n",
    "\n",
    "VERSION = 'v6.4'\n",
    "data = pd.read_csv(f'sample_processed_{VERSION}(외부병원).csv')\n",
    "\n",
    "\n",
    "data.fillna(value='None', inplace=True)\n",
    "\n",
    "labels = data.iloc[:,4:]"
   ]
  },
  {
   "cell_type": "code",
   "execution_count": 69,
   "metadata": {},
   "outputs": [
    {
     "name": "stderr",
     "output_type": "stream",
     "text": [
      "C:\\Users\\User\\AppData\\Local\\Temp\\ipykernel_175912\\332206010.py:18: FutureWarning: The default value of regex will change from True to False in a future version.\n",
      "  pred.columns = pred.columns.str.replace('.1', '')\n"
     ]
    }
   ],
   "source": [
    "# pred = pd.read_excel('result_1224_chatgpt_InterTest_v1.2_.xlsx')\n",
    "# pred = pd.read_excel('result_1016_chatgpt_InterTest_v1.1_GPT4.xlsx')\n",
    "# pred = pd.read_excel('result_1016_chatgpt_InterTest_v1.1_o1-mini.xlsx')\n",
    "# pred = pd.read_excel('result_1016_claude_InterTest_v1.1_.xlsx')\n",
    "# pred = pd.read_excel('result_1016_gemini_InterTest_v1.1_.xlsx')\n",
    "\n",
    "\n",
    "# pred = pd.read_excel('result_1016_external_chatgpt_v6.0_.xlsx')\n",
    "pred = pd.read_excel('result_1016_external_chatgpt_v6.0_GPT4.xlsx')\n",
    "# pred = pd.read_excel('result_1016_external_chatgpt_v6.0_o1-mini.xlsx')\n",
    "# pred = pd.read_excel('result_1016_external_claude_v6.0_.xlsx')\n",
    "# pred = pd.read_excel('result_1016_external_gemini_v6.0_.xlsx')\n",
    "\n",
    "\n",
    "pred = pred.iloc[:, -9:-1]\n",
    "\n",
    "# 모든 컬럼 이름에서 '.1' 제거\n",
    "pred.columns = pred.columns.str.replace('.1', '')\n",
    "pred = pred[labels.iloc[:,:-1].columns]\n",
    "pred.loc[pred['CAD-RADS']=='4', 'CAD-RADS']='4A'\n",
    "# pred.loc[pred['CAD-RADS']=='None', 'CAD-RADS']='0'\n",
    "\n",
    "pred_noCoT = pred"
   ]
  },
  {
   "cell_type": "code",
   "execution_count": 70,
   "metadata": {},
   "outputs": [
    {
     "name": "stderr",
     "output_type": "stream",
     "text": [
      "C:\\Users\\User\\AppData\\Local\\Temp\\ipykernel_175912\\640930913.py:16: FutureWarning: The default value of regex will change from True to False in a future version.\n",
      "  pred.columns = pred.columns.str.replace('.1', '')\n"
     ]
    }
   ],
   "source": [
    "# pred = pd.read_excel('result_1224_chatgpt_InterTest_v1.2_CoT.xlsx')\n",
    "# pred = pd.read_excel('result_1016_chatgpt_InterTest_v1.1_CoT_GPT4.xlsx')\n",
    "# pred = pd.read_excel('result_1016_chatgpt_InterTest_v1.1_CoT_o1-mini.xlsx')\n",
    "# pred = pd.read_excel('result_1016_claude_InterTest_v1.1_CoT.xlsx')\n",
    "# pred = pd.read_excel('result_1016_gemini_InterTest_v1.1_CoT.xlsx')\n",
    "\n",
    "# pred = pd.read_excel('result_1016_external_chatgpt_v6.0_CoT.xlsx')\n",
    "pred = pd.read_excel('result_1016_external_chatgpt_v6.0_CoT_GPT4.xlsx')\n",
    "# pred = pd.read_excel('result_1016_external_chatgpt_v6.0_CoT_o1-mini.xlsx')\n",
    "# pred = pd.read_excel('result_1016_external_claude_v6.0_CoT.xlsx')\n",
    "# pred = pd.read_excel('result_1016_external_gemini_v6.0_CoT.xlsx')\n",
    "\n",
    "pred = pred.iloc[:, -9:-1]\n",
    "\n",
    "# 모든 컬럼 이름에서 '.1' 제거\n",
    "pred.columns = pred.columns.str.replace('.1', '')\n",
    "pred = pred[labels.iloc[:,:-1].columns]\n",
    "pred.loc[pred['CAD-RADS']=='4', 'CAD-RADS']='4A'\n",
    "# pred.loc[pred['CAD-RADS']=='None', 'CAD-RADS']='0'\n",
    "\n",
    "pred_CoT = pred"
   ]
  },
  {
   "cell_type": "code",
   "execution_count": 71,
   "metadata": {},
   "outputs": [
    {
     "name": "stdout",
     "output_type": "stream",
     "text": [
      "[[  9.  35.]\n",
      " [  3. 120.]]\n",
      "CAD-RADS 6.677873898297548e-08\n",
      "[[  4.  21.]\n",
      " [  0. 113.]]\n",
      "Plaque Burden 9.5367431640625e-07\n",
      "[[ 3. 39.]\n",
      " [ 1. 95.]]\n",
      "N 7.457856554538012e-11\n"
     ]
    }
   ],
   "source": [
    "from statsmodels.stats.contingency_tables import mcnemar\n",
    "import numpy as np\n",
    "\n",
    "\n",
    "for key in ['CAD-RADS', 'Plaque Burden', 'N']:\n",
    "# for key in ['CAD-RADS', 'Plaque Burden', 'N', 'I', 'G', 'HRP', 'S', 'E']:\n",
    "    \n",
    "    if key == 'CAD-RADS':\n",
    "        valid_index = labels['N']==0\n",
    "    elif key == 'Plaque Burden':\n",
    "        valid_index = (labels['S']==0) & (labels['CAC_available']==1)\n",
    "        \n",
    "    # 각 케이스별 정답 여부 (예시)\n",
    "    # 1: 정답, 0: 오답\n",
    "    # few_shot_results = np.tile(np.array(few_shot_pred[key] == labels[key]).astype(int), 4)\n",
    "    # many_shot_results = np.tile(np.array(many_shot_pred[key] == labels[key]).astype(int), 4)  # 50개\n",
    "    results_noCoT = np.array(pred_noCoT[valid_index][key] == labels[valid_index][key]).astype(int)  # 50개\n",
    "    results_CoT = np.array(pred_CoT[valid_index][key] == labels[valid_index][key]).astype(int)  # 50개\n",
    "\n",
    "    # Contingency table 생성\n",
    "    table = np.zeros((2,2))\n",
    "    for f, m in zip(results_noCoT, results_CoT):\n",
    "        table[f][m] += 1\n",
    "    print(table)\n",
    "\n",
    "    # McNemar's test 수행\n",
    "    result = mcnemar(table)\n",
    "    p_value = result.pvalue\n",
    "    print(key, p_value)"
   ]
  },
  {
   "cell_type": "code",
   "execution_count": null,
   "metadata": {},
   "outputs": [],
   "source": []
  },
  {
   "cell_type": "code",
   "execution_count": 13,
   "metadata": {},
   "outputs": [],
   "source": [
    "import pandas as pd\n",
    "\n",
    "data.fillna(value='None', inplace=True)\n",
    "labels = data.iloc[:,4:]"
   ]
  },
  {
   "cell_type": "code",
   "execution_count": 14,
   "metadata": {},
   "outputs": [
    {
     "name": "stderr",
     "output_type": "stream",
     "text": [
      "C:\\Users\\User\\AppData\\Local\\Temp\\ipykernel_219000\\2322398899.py:29: FutureWarning: The default value of regex will change from True to False in a future version.\n",
      "  pred.columns = pred.columns.str.replace('.1', '')\n"
     ]
    }
   ],
   "source": [
    "# pred = pd.read_excel('result_0828_external_gemini_v5.1.xlsx')\n",
    "# pred = pred.iloc[:,-8:]\n",
    "\n",
    "# pred = pd.read_excel('result_0829_external_gemini_v5.1_CoT_x_after_answer_x_none.xlsx')\n",
    "# pred = pd.read_excel('result_0930_external_gemini_v6.0_CoT_edit.xlsx')\n",
    "# pred = pred.iloc[:,-9:-1]\n",
    "\n",
    "# pred = pd.read_excel('result_1014_external_gemini_v6.0_CoT_edit_certainty_UpperEnd.xlsx')\n",
    "# pred = pd.read_excel('result_1016_external_gemini_v6.0_CoT_edit_certainty_UpperEnd.xlsx')\n",
    "# certainty = pred[['certainty_cadrads', 'certainty_plaque']]\n",
    "# pred = pred.iloc[:,-11:-3]\n",
    "\n",
    "# pred = pd.read_excel('result_1016_external_gemini_v6.0_.xlsx')\n",
    "pred = pd.read_excel('result_1016_external_gemini_v6.0_CoT.xlsx')\n",
    "# pred = pd.read_excel('result_1028_external_gemini_v6.2_CoT_Shot100.xlsx')\n",
    "# pred = pd.read_excel('result_1028_external_gemini_v6.2_CoT_Shot50.xlsx')\n",
    "# pred = pd.read_excel('result_1028_external_gemini_v6.2_CoT_Shot20.xlsx')\n",
    "# pred = pd.read_excel('result_1028_external_gemini_v6.2_CoT_Shot10.xlsx')\n",
    "# pred = pd.read_excel('result_1028_external_gemini_v6.2_CoT_Shot3.xlsx')\n",
    "# pred = pd.read_excel('result_1028_external_gemini_v6.2_CoT_Shot3_Seed421.xlsx')\n",
    "# pred = pd.read_excel('result_1028_external_gemini_v6.2_CoT_Shot3_Seed422.xlsx')\n",
    "# pred = pd.read_excel('result_1028_external_gemini_v6.2_CoT_Shot3_Seed423.xlsx')\n",
    "# pred = pd.read_excel('result_1028_external_gemini_v6.2_CoT_Shot3_Seed424.xlsx')\n",
    "\n",
    "# pred = pd.read_excel('result_1122_external_gemini_v6.3_flash.xlsx')\n",
    "pred = pred.iloc[:, -9:-1]\n",
    "\n",
    "# 모든 컬럼 이름에서 '.1' 제거\n",
    "pred.columns = pred.columns.str.replace('.1', '')\n",
    "pred = pred[labels.iloc[:,:-1].columns]\n",
    "\n",
    "few_shot_pred = pred"
   ]
  },
  {
   "cell_type": "code",
   "execution_count": 15,
   "metadata": {},
   "outputs": [],
   "source": [
    "paths = [\n",
    "    'External_repeated/results/result_1028_gemini_External_v6.2_CoT_Shot100_Seed42.xlsx',\n",
    "    'External_repeated/results/result_1028_gemini_External_v6.2_CoT_Shot100_Seed421_20241031_044331.xlsx',\n",
    "    'External_repeated/results/result_1028_gemini_External_v6.2_CoT_Shot100_Seed422_20241031_054446.xlsx',\n",
    "    'External_repeated/results/result_1028_gemini_External_v6.2_CoT_Shot100_Seed423_20241031_063913.xlsx',\n",
    "    'External_repeated/results/result_1028_gemini_External_v6.2_CoT_Shot100_Seed424_20241031_072853.xlsx',\n",
    "    'External_repeated/results/result_1028_gemini_External_v6.2_CoT_Shot100_Seed425_20241031_081206.xlsx',\n",
    "    'External_repeated/results/result_1028_gemini_External_v6.2_CoT_Shot100_Seed426_20241031_085531.xlsx',\n",
    "    'External_repeated/results/result_1028_gemini_External_v6.2_CoT_Shot100_Seed427_20241031_093724.xlsx',\n",
    "    'External_repeated/results/result_1028_gemini_External_v6.2_CoT_Shot100_Seed428_20241031_102058.xlsx',\n",
    "    'External_repeated/results/result_1028_gemini_External_v6.2_CoT_Shot100_Seed429_20241031_110715.xlsx',\n",
    "    ]"
   ]
  },
  {
   "cell_type": "code",
   "execution_count": 16,
   "metadata": {},
   "outputs": [
    {
     "name": "stderr",
     "output_type": "stream",
     "text": [
      "C:\\Users\\User\\AppData\\Local\\Temp\\ipykernel_219000\\2364300205.py:11: FutureWarning: The default value of regex will change from True to False in a future version.\n",
      "  pred.columns = pred.columns.str.replace('.1', '')\n",
      "C:\\Users\\User\\AppData\\Local\\Temp\\ipykernel_219000\\2364300205.py:11: FutureWarning: The default value of regex will change from True to False in a future version.\n",
      "  pred.columns = pred.columns.str.replace('.1', '')\n",
      "C:\\Users\\User\\AppData\\Local\\Temp\\ipykernel_219000\\2364300205.py:11: FutureWarning: The default value of regex will change from True to False in a future version.\n",
      "  pred.columns = pred.columns.str.replace('.1', '')\n",
      "C:\\Users\\User\\AppData\\Local\\Temp\\ipykernel_219000\\2364300205.py:11: FutureWarning: The default value of regex will change from True to False in a future version.\n",
      "  pred.columns = pred.columns.str.replace('.1', '')\n",
      "C:\\Users\\User\\AppData\\Local\\Temp\\ipykernel_219000\\2364300205.py:11: FutureWarning: The default value of regex will change from True to False in a future version.\n",
      "  pred.columns = pred.columns.str.replace('.1', '')\n",
      "C:\\Users\\User\\AppData\\Local\\Temp\\ipykernel_219000\\2364300205.py:11: FutureWarning: The default value of regex will change from True to False in a future version.\n",
      "  pred.columns = pred.columns.str.replace('.1', '')\n",
      "C:\\Users\\User\\AppData\\Local\\Temp\\ipykernel_219000\\2364300205.py:11: FutureWarning: The default value of regex will change from True to False in a future version.\n",
      "  pred.columns = pred.columns.str.replace('.1', '')\n",
      "C:\\Users\\User\\AppData\\Local\\Temp\\ipykernel_219000\\2364300205.py:11: FutureWarning: The default value of regex will change from True to False in a future version.\n",
      "  pred.columns = pred.columns.str.replace('.1', '')\n"
     ]
    },
    {
     "name": "stdout",
     "output_type": "stream",
     "text": [
      "Worst CAD-RADS performance (Accuracy=0.868): External_repeated/results/result_1028_gemini_External_v6.2_CoT_Shot100_Seed421_20241031_044331.xlsx\n",
      "Worst Plaque Burden performance (Accuracy=0.986): External_repeated/results/result_1028_gemini_External_v6.2_CoT_Shot100_Seed426_20241031_085531.xlsx\n",
      "Worst Modifiers performance (Averaged Accuracy=0.993): External_repeated/results/result_1028_gemini_External_v6.2_CoT_Shot100_Seed422_20241031_054446.xlsx\n",
      "\n",
      "Final predictions shape: (169, 8)\n"
     ]
    },
    {
     "name": "stderr",
     "output_type": "stream",
     "text": [
      "C:\\Users\\User\\AppData\\Local\\Temp\\ipykernel_219000\\2364300205.py:11: FutureWarning: The default value of regex will change from True to False in a future version.\n",
      "  pred.columns = pred.columns.str.replace('.1', '')\n",
      "C:\\Users\\User\\AppData\\Local\\Temp\\ipykernel_219000\\2364300205.py:11: FutureWarning: The default value of regex will change from True to False in a future version.\n",
      "  pred.columns = pred.columns.str.replace('.1', '')\n"
     ]
    }
   ],
   "source": [
    "from sklearn.metrics import accuracy_score\n",
    "import numpy as np\n",
    "\n",
    "# 각 실험결과의 성능을 저장할 딕셔너리 \n",
    "performance = {}\n",
    "\n",
    "# 각 실험 결과에 대해 성능 계산\n",
    "for path in paths:\n",
    "   pred = pd.read_excel(path)\n",
    "   pred = pred.iloc[:, -9:-1]\n",
    "   pred.columns = pred.columns.str.replace('.1', '')\n",
    "   pred = pred[labels.iloc[:,:-1].columns]\n",
    "   pred.loc[pred['CAD-RADS']=='4', 'CAD-RADS']='4A'\n",
    "   \n",
    "   # CAD-RADS accuracy 계산\n",
    "   cad_valid_index = labels['N']==0\n",
    "   cad_acc = accuracy_score(labels[cad_valid_index]['CAD-RADS'], \n",
    "                          pred[cad_valid_index]['CAD-RADS'])\n",
    "   \n",
    "   # Plaque Burden accuracy 계산\n",
    "   plaque_valid_index = (labels['S']==0) & (labels['CAC_available']==1)\n",
    "   plaque_acc = accuracy_score(labels[plaque_valid_index]['Plaque Burden'],\n",
    "                             pred[plaque_valid_index]['Plaque Burden'])\n",
    "   \n",
    "   # Modifiers accuracy 계산\n",
    "   modifier_columns = ['N', 'I', 'HRP', 'S', 'E', 'G']\n",
    "   modifier_accs = []\n",
    "   for modifier in modifier_columns:\n",
    "       modifier_acc = accuracy_score(labels[modifier], pred[modifier])\n",
    "       modifier_accs.append(modifier_acc)\n",
    "   avg_modifier_acc = np.mean(modifier_accs)\n",
    "   \n",
    "   performance[path] = {\n",
    "       'cad_acc': cad_acc,\n",
    "       'plaque_acc': plaque_acc,\n",
    "       'modifier_acc': avg_modifier_acc,\n",
    "       'predictions': pred\n",
    "   }\n",
    "\n",
    "# 최악의 성능을 보인 실험 찾기\n",
    "worst_cad = min(performance.items(), key=lambda x: x[1]['cad_acc'])\n",
    "worst_plaque = min(performance.items(), key=lambda x: x[1]['plaque_acc'])\n",
    "worst_modifier = min(performance.items(), key=lambda x: x[1]['modifier_acc'])\n",
    "\n",
    "# 결과를 하나의 DataFrame으로 결합\n",
    "final_predictions = pd.DataFrame(index=labels.index)\n",
    "\n",
    "# 각각 최악의 성능을 보인 실험의 예측값 가져오기\n",
    "final_predictions['CAD-RADS'] = performance[worst_cad[0]]['predictions']['CAD-RADS']\n",
    "final_predictions['Plaque Burden'] = performance[worst_plaque[0]]['predictions']['Plaque Burden']\n",
    "for modifier in ['N', 'I', 'HRP', 'S', 'E', 'G']:\n",
    "   final_predictions[modifier] = performance[worst_modifier[0]]['predictions'][modifier]\n",
    "\n",
    "# 어떤 실험이 선택되었는지 출력\n",
    "print(f\"Worst CAD-RADS performance (Accuracy={worst_cad[1]['cad_acc']:.3f}): {worst_cad[0]}\")\n",
    "print(f\"Worst Plaque Burden performance (Accuracy={worst_plaque[1]['plaque_acc']:.3f}): {worst_plaque[0]}\")\n",
    "print(f\"Worst Modifiers performance (Averaged Accuracy={worst_modifier[1]['modifier_acc']:.3f}): {worst_modifier[0]}\")\n",
    "\n",
    "print(\"\\nFinal predictions shape:\", final_predictions.shape)\n",
    "many_shot_pred = final_predictions"
   ]
  },
  {
   "cell_type": "code",
   "execution_count": 17,
   "metadata": {},
   "outputs": [
    {
     "name": "stdout",
     "output_type": "stream",
     "text": [
      "[[  9.  15.]\n",
      " [ 13. 130.]]\n",
      "CAD-RADS 0.8505540192127228\n",
      "[[  1.   9.]\n",
      " [  1. 127.]]\n",
      "Plaque Burden 0.021484375\n"
     ]
    }
   ],
   "source": [
    "from statsmodels.stats.contingency_tables import mcnemar\n",
    "import numpy as np\n",
    "\n",
    "\n",
    "for key in ['CAD-RADS', 'Plaque Burden']:\n",
    "    \n",
    "    if key == 'CAD-RADS':\n",
    "        valid_index = labels['N']==0\n",
    "    elif key == 'Plaque Burden':\n",
    "        valid_index = (labels['S']==0) & (labels['CAC_available']==1)\n",
    "        \n",
    "    # 각 케이스별 정답 여부 (예시)\n",
    "    # 1: 정답, 0: 오답\n",
    "    # few_shot_results = np.tile(np.array(few_shot_pred[key] == labels[key]).astype(int), 4)\n",
    "    # many_shot_results = np.tile(np.array(many_shot_pred[key] == labels[key]).astype(int), 4)  # 50개\n",
    "    few_shot_results = np.array(few_shot_pred[valid_index][key] == labels[valid_index][key]).astype(int)  # 50개\n",
    "    many_shot_results = np.array(many_shot_pred[valid_index][key] == labels[valid_index][key]).astype(int)  # 50개\n",
    "\n",
    "    # Contingency table 생성\n",
    "    table = np.zeros((2,2))\n",
    "    for f, m in zip(few_shot_results, many_shot_results):\n",
    "        table[f][m] += 1\n",
    "    print(table)\n",
    "\n",
    "    # McNemar's test 수행\n",
    "    result = mcnemar(table)\n",
    "    p_value = result.pvalue\n",
    "    print(key, p_value)"
   ]
  },
  {
   "cell_type": "code",
   "execution_count": 18,
   "metadata": {},
   "outputs": [
    {
     "name": "stdout",
     "output_type": "stream",
     "text": [
      "worst cads acc 0.8682634730538922\n",
      "worst plaque acc 0.9855072463768116\n",
      "worst plaque acc 0.9930966469428008\n"
     ]
    }
   ],
   "source": [
    "print('worst cads acc', performance[worst_cad[0]]['cad_acc'])\n",
    "print('worst plaque acc', performance[worst_plaque[0]]['plaque_acc'])\n",
    "print('worst plaque acc', performance[worst_modifier[0]]['modifier_acc'])"
   ]
  }
 ],
 "metadata": {
  "kernelspec": {
   "display_name": "Python 3",
   "language": "python",
   "name": "python3"
  },
  "language_info": {
   "codemirror_mode": {
    "name": "ipython",
    "version": 3
   },
   "file_extension": ".py",
   "mimetype": "text/x-python",
   "name": "python",
   "nbconvert_exporter": "python",
   "pygments_lexer": "ipython3",
   "version": "3.10.11"
  }
 },
 "nbformat": 4,
 "nbformat_minor": 2
}
