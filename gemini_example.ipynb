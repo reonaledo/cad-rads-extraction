{
 "cells": [
  {
   "cell_type": "code",
   "execution_count": 22,
   "metadata": {},
   "outputs": [
    {
     "name": "stdout",
     "output_type": "stream",
     "text": [
      "You need to extract the CAD-RADS, Plaque burden, and Modifier from a coronary artery CT report. Refer to the information below:\n",
      "\n",
      "CAD-RADS\n",
      "CAD-RADS is determined based on the most severe stenosis among various coronary branches:\n",
      "- 0: 0%, Absence of CAD\n",
      "- 1: 1-24%, Minimal non-obstructive CAD\n",
      "- 2: 25-49%, Mild non-obstructive CAD\n",
      "- 3: 50-69%, Moderate stenosis\n",
      "- 4A: 70-99% in a single or 2-vessel, Severe stenosis\n",
      "- 4B: If the left main shows stenosis of 50% or higher, or if two of the main coronary artery branches (including LAD, LCx, RCA, OM, D, PDA) have stenosis of 70% or higher.\n",
      "- 5: 100% Total coronary occlusion\n",
      " \n",
      "Plaque Burden\n",
      "Plaque Burden is determined by the overall amount of coronary plaque and Coronary artery calcium (CAC):\n",
      "- None: 0\n",
      "- P1: Mild, 1-100\n",
      "- P2: Moderate, 101-300\n",
      "- P3: Severe, 301-999\n",
      "- P4: Extensive, >1000\n",
      "\n",
      "Modifiers \n",
      "There are 6 modifiers that can be added to the CAD-RADS category. More than one modifiers can be applicable:\n",
      "- N: indicates that a study is non-diagnostic\n",
      "- HRP: high-risk plaque (replaces V-vulnerable plaque)\n",
      "- I: ischemia\n",
      "- S: presence of stents\n",
      "- G: coronary artery bypass grafts\n",
      "- E: exceptions\n",
      "\n",
      "Requirements\n",
      "- If the modifier 'G' (coronary artery bypass grafts) is applicable, the Plaque Burden should be 'None'.\n",
      "- Include 'E' (exceptions) in cases prone to false positives such as: coronary artery dissections, anomalous high take-off of coronary artery with interarterial course, cardiac anatomical variant such as bicuspid valve or atrial septal pouch, peridevice leak, anomalous coronary arteries, coronary artery aneurysms or pseudo-aneurysms, vasculitis, coronary artery fistulas, and extrinsic coronary artery compression.\n",
      "- If there is a graft and the stenosis is 70% or higher, classify it as 4A only if the stenosis occurs in a branch not connected to the graft.\n",
      "- Please provide the CAD-RADS, plaque burden, and modifier values without any additional explanation.\n"
     ]
    }
   ],
   "source": [
    "# f = open(\"prompt_system.txt\", 'r')\n",
    "# f = open(\"prompt_system_0612.txt\", 'r')\n",
    "f = open(\"prompt_system_0705.txt\", 'r')\n",
    "prompt_sys = f.read()\n",
    "print(prompt_sys)\n",
    "f.close()"
   ]
  },
  {
   "cell_type": "code",
   "execution_count": 23,
   "metadata": {},
   "outputs": [],
   "source": [
    "import google.generativeai as genai\n",
    "api_key = 'YOUR_API_KEY'\n",
    "genai.configure(api_key=api_key)\n",
    "\n",
    "model = genai.GenerativeModel(\n",
    "    model_name=\"gemini-1.5-flash\",\n",
    "    generation_config={\n",
    "        \"temperature\": 0,\n",
    "        \"max_output_tokens\": 50,\n",
    "        \"response_mime_type\": \"text/plain\",\n",
    "        },\n",
    "    system_instruction=prompt_sys\n",
    "    )"
   ]
  },
  {
   "cell_type": "code",
   "execution_count": 24,
   "metadata": {},
   "outputs": [
    {
     "name": "stdout",
     "output_type": "stream",
     "text": [
      "Extract the CAD-RADS, Plaque burden, and Modifier from a given coronary artery CT report like three examples below.\n",
      "===\n",
      "Example 1:\n",
      "\n",
      "### Report:\n",
      "s/p OPCAB; RSVG to LITA (Y), LITA to LAD, RSVG to OM1/OM2/PDA (seq).\n",
      "\n",
      "RSVG to LITA (Y) patent.\n",
      "LITA to LAD patent graft with good distal run-off.\n",
      "RSVG to OM1 severe graft stenosis with faint distal run-off.\n",
      "RSVG to OM2 Segmental occlusion - r/o graft regression.\n",
      "RSVG to PDA (seq) patent graft with good distal run-off.\n",
      "\n",
      "LM: <5% stenosis with calcified plaques.\n",
      "pLCx: 50-60% stenosis with mixed plaques.\n",
      "dLCx, OM1, OM2: multifocal severe stenosis to occlusion.\n",
      "LV dilatation.\n",
      "Diffuse atherosclerosis in thoracic aorta and its major branches without significant stenosis.\n",
      "\n",
      "### CAD-RADS/Plaque Burden/Modifier: 5/None/G\n",
      "===\n",
      "Example 2:\n",
      "\n",
      "### Report:\n",
      "RCA arising just above Left coronary sinus with interarterial course.\n",
      "--> pRCA: Diffuse small caliber.\n",
      "Otherwise, mild atherosclerosis with no significant stenosis in the coronary arteries.\n",
      "LM LAD LCx unremarkable.\n",
      "RI <25-30% stenosis with mixed plaque.\n",
      "No remarkable finding in the LV myocardium.\n",
      "Total coronary calcium score = 0.91'\n",
      "\n",
      "### CAD-RADS/Plaque Burden/Modifier: 2/P1/E\n",
      "===\n",
      "Example 3:\n",
      "\n",
      "### Report:\n",
      "LM : distal up to 30% stenosis with mixed plaque\n",
      "LAD : proximal up to 30% stenosis with mixed plaque\n",
      "LAD : mid 30-40% stenosis with calcified plaque\n",
      "RI (or early D1) : proximal 30-40% stenosis with calcified plaque\n",
      "LCx : proximal 30-40% stenosis with calcified plaque\n",
      "RCA : proximal <30% stenosis with calcified plaque\n",
      "\n",
      "Diffuse LVH: basal ant. septum: 20 mm at diastolic phase.\n",
      "HCM cannot be excluded. \n",
      "rec) clinical correlation.\n",
      "No definite evidence of PTE nor acute aortic syndrome. \n",
      "\n",
      "### CAD-RADS/Plaque Burden/Modifier: 2/P3/N\n",
      "===\n",
      "Now, extract the information from following report in the same format:\n",
      "\n",
      "### Report: \n"
     ]
    }
   ],
   "source": [
    "f = open(\"prompt_user_few.txt\", 'r')\n",
    "prompt_user_few = f.read()\n",
    "print(prompt_user_few)\n",
    "f.close()"
   ]
  },
  {
   "cell_type": "code",
   "execution_count": 25,
   "metadata": {},
   "outputs": [],
   "source": [
    "chat_session = model.start_chat()"
   ]
  },
  {
   "cell_type": "code",
   "execution_count": 26,
   "metadata": {},
   "outputs": [],
   "source": [
    "response = chat_session.send_message(\"Extract the CAD-RADS, Plaque burden, and Modifier from a given coronary artery CT report like three examples below.\\n===\\nExample 1:\\n\\n### Report:\\ns/p OPCAB; RSVG to LITA (Y), LITA to LAD, RSVG to OM1/OM2/PDA (seq).\\n\\nRSVG to LITA (Y) patent.\\nLITA to LAD patent graft with good distal run-off.\\nRSVG to OM1 severe graft stenosis with faint distal run-off.\\nRSVG to OM2 Segmental occlusion - r/o graft regression.\\nRSVG to PDA (seq) patent graft with good distal run-off.\\n\\nLM: <5% stenosis with calcified plaques.\\npLCx: 50-60% stenosis with mixed plaques.\\ndLCx, OM1, OM2: multifocal severe stenosis to occlusion.\\nLV dilatation.\\nDiffuse atherosclerosis in thoracic aorta and its major branches without significant stenosis.\\n\\n### CAD-RADS/Plaque Burden/Modifier: 5/None/G\\n===\\nExample 2:\\n\\n### Report:\\nRCA arising just above Left coronary sinus with interarterial course.\\n--> pRCA: Diffuse small caliber.\\nOtherwise, mild atherosclerosis with no significant stenosis in the coronary arteries.\\nLM LAD LCx unremarkable.\\nRI <25-30% stenosis with mixed plaque.\\nNo remarkable finding in the LV myocardium.\\nTotal coronary calcium score = 0.91'\\n\\n### CAD-RADS/Plaque Burden/Modifier: 2/P1/E\\n===\\nExample 3:\\n\\n### Report:\\nLM : distal up to 30% stenosis with mixed plaque\\nLAD : proximal up to 30% stenosis with mixed plaque\\nLAD : mid 30-40% stenosis with calcified plaque\\nRI (or early D1) : proximal 30-40% stenosis with calcified plaque\\nLCx : proximal 30-40% stenosis with calcified plaque\\nRCA : proximal <30% stenosis with calcified plaque\\n\\nDiffuse LVH: basal ant. septum: 20 mm at diastolic phase.\\nHCM cannot be excluded. \\nrec) clinical correlation.\\nNo definite evidence of PTE nor acute aortic syndrome. \\n\\n### CAD-RADS/Plaque Burden/Modifier: 2/P3/N\\n===\\nNow, extract the information from following report in the same format:\\n\\n### Report: Limited evaluation d/t motion artifact. \\nLeft dominancy.\\nMild atherosclerosis with no significant stenosis in the coronary arteries.\\n LM unremarkable.\\n LAD LCx RCA 25-30% stnosis with multifocal calcified plaques.\\nNo remarkable finding in the LV myocardium.\\nTotal coronary calcium score = 375.15\")"
   ]
  },
  {
   "cell_type": "code",
   "execution_count": 27,
   "metadata": {},
   "outputs": [
    {
     "data": {
      "text/plain": [
       "'CAD-RADS/Plaque Burden/Modifier: **2/P3/N** \\n'"
      ]
     },
     "execution_count": 27,
     "metadata": {},
     "output_type": "execute_result"
    }
   ],
   "source": [
    "response.text"
   ]
  },
  {
   "cell_type": "code",
   "execution_count": null,
   "metadata": {},
   "outputs": [
    {
     "data": {
      "text/plain": [
       "'Here\\'s the extracted information from the report:\\n\\n**CAD-RADS/Plaque Burden/Modifier: 2/P3/N**\\n\\n**Explanation:**\\n\\n* **CAD-RADS:** The report states \"25-'"
      ]
     },
     "metadata": {},
     "output_type": "display_data"
    }
   ],
   "source": [
    "response.text"
   ]
  },
  {
   "cell_type": "code",
   "execution_count": null,
   "metadata": {},
   "outputs": [],
   "source": []
  }
 ],
 "metadata": {
  "kernelspec": {
   "display_name": "Python 3",
   "language": "python",
   "name": "python3"
  },
  "language_info": {
   "codemirror_mode": {
    "name": "ipython",
    "version": 3
   },
   "file_extension": ".py",
   "mimetype": "text/x-python",
   "name": "python",
   "nbconvert_exporter": "python",
   "pygments_lexer": "ipython3",
   "version": "3.10.11"
  }
 },
 "nbformat": 4,
 "nbformat_minor": 2
}
