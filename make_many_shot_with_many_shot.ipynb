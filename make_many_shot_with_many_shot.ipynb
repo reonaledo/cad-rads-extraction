{
 "cells": [
  {
   "cell_type": "code",
   "execution_count": 2,
   "metadata": {},
   "outputs": [],
   "source": [
    "import pandas as pd\n",
    "import numpy as np\n",
    "from tqdm import tqdm\n",
    "from preprocess import process_cad_rads_labels, evaluate_performance, plot_confusion_matrix, compare_certainty"
   ]
  },
  {
   "cell_type": "code",
   "execution_count": 4,
   "metadata": {},
   "outputs": [],
   "source": [
    "# API = 'chatgpt'\n",
    "API = 'claude'\n",
    "# API = 'gemini'"
   ]
  },
  {
   "cell_type": "code",
   "execution_count": 32,
   "metadata": {},
   "outputs": [],
   "source": [
    "USE_MANYSHOT = True\n",
    "\n",
    "MAX_OUTPUT_LENGTH = 1000"
   ]
  },
  {
   "cell_type": "code",
   "execution_count": 7,
   "metadata": {},
   "outputs": [
    {
     "name": "stdout",
     "output_type": "stream",
     "text": [
      "claude\n"
     ]
    }
   ],
   "source": [
    "\n",
    "if API == 'chatgpt':\n",
    "    from openai import OpenAI\n",
    "    api_key = 'YOUR_API_KEY'\n",
    "    client = OpenAI(api_key=api_key)\n",
    "\n",
    "elif API == \"claude\":\n",
    "    import anthropic\n",
    "    api_key = 'YOUR_API_KEY'\n",
    "    client = anthropic.Anthropic(api_key=api_key)\n",
    "\n",
    "elif API == \"gemini\":\n",
    "    import google.generativeai as genai\n",
    "    api_key = 'YOUR_API_KEY'\n",
    "    genai.configure(api_key=api_key)\n",
    "\n",
    "print(API)"
   ]
  },
  {
   "cell_type": "code",
   "execution_count": 9,
   "metadata": {},
   "outputs": [],
   "source": [
    "VERSION = 'v4.5'\n",
    "\n",
    "data = pd.read_csv(f'sample_processed_{VERSION}.csv')\n",
    "\n",
    "data.fillna(value='None', inplace=True)"
   ]
  },
  {
   "cell_type": "code",
   "execution_count": 23,
   "metadata": {},
   "outputs": [],
   "source": [
    "pool = pd.read_csv('manyshot_pool_from_claude.csv')\n",
    "pool_idx = list(pool['Unnamed: 0.2'])\n",
    "no_pool = data.drop(index=pool_idx)"
   ]
  },
  {
   "cell_type": "code",
   "execution_count": 25,
   "metadata": {},
   "outputs": [
    {
     "name": "stdout",
     "output_type": "stream",
     "text": [
      "You need to extract the CAD-RADS, Plaque burden, and Modifier from a coronary artery CT report. Refer to the information below:\n",
      "\n",
      "CAD-RADS\n",
      "CAD-RADS is determined based on the most severe stenosis among various coronary branches:\n",
      "- 0: 0%, Absence of CAD\n",
      "- 1: 1-24%, Minimal non-obstructive CAD\n",
      "- 2: 25-49%, Mild non-obstructive CAD (Mild stenosis)\n",
      "- 3: 50-69%, Moderate stenosis\n",
      "- 4A: 70-99% in a single or 2-vessel, Severe stenosis\n",
      "- 4B: If the left main (LM) shows stenosis of 50% (moderate) or higher, or if 3-vessel(including LAD, LCx, RCA, OM, D, PDA) have stenosis of 70% (severe) or higher.\n",
      "- 5: 100% Total coronary occlusion\n",
      " \n",
      "Plaque Burden\n",
      "Plaque Burden is determined by the overall amount of coronary plaque and Coronary artery calcium (CAC):\n",
      "- None: 0\n",
      "- P1: Mild, 1-100\n",
      "- P2: Moderate, 101-300\n",
      "- P3: Severe, 301-999\n",
      "- P4: Extensive, >1000\n",
      "\n",
      "Modifiers \n",
      "There are 6 modifiers that can be added to the CAD-RADS category. More than one modifiers can be applicable:\n",
      "- N: If \"Limited evaluation due to severe motion artifacts\" is present, it can be non-diagnostic. Coronary artery stenosis can be described with motion artifacts if evaluated with low diagnostic confidence, so it is not \"non-diagnostic.\" In addition, motion artifacts can involve only the coronary artery branch. It is not non-diagnostic because other coronary arteries were evaluated.\n",
      "- HRP: High-risk plaque includes plaque with positive remodeling or low-attenuation plaque or spotty calcification in the plaque, or the napkin-ring sign. “napkin ring sign” defined in a non-calcified plaque cross-sectional image by the presence of two features: a central area of low attenuation plaque that is apparently in contact with the lumen; and a ring-like peripheral rim of higher CT attenuation surrounding this central area.\n",
      "- I: Use only if the report explicitly includes perfusion results from specific CT protocols such as CT Fractional Flow Reserve (CT-FFR) or CT perfusion (CTP). Do not apply 'I' if:\n",
      "    - The report does not include myocardial perfusion data from these specific protocols.\n",
      "    - The report only mentions myocardial thinning or motion abnormalities (e.g., hypokinesia, akinesia) without CT-FFR or CTP results.\n",
      "- S: Presence of stents. Indicates one or more coronary stents are present.\n",
      "- G: Coronary artery bypass grafts. Used when bypass grafts are present.\n",
      "- E: Used only for significant non-atherosclerotic coronary artery abnormalities such as dissections, anomalous arteries, aneurysms, vasculitis, fistulas, or extrinsic compression. Does not apply to:\n",
      "    - Minor anatomical variants (e.g., short left main, myocardial bridging).\n",
      "    - Non-coronary cardiac findings (e.g., valve abnormalities, septal defects).\n",
      "    - General cardiac or vascular findings not directly affecting coronary arteries.\n",
      "\n",
      "Requirements\n",
      "- If the modifier 'G' (coronary artery bypass grafts) is applicable, the Plaque Burden should be 'None'.\n",
      "- If there is a graft and the stenosis is 70% or higher, classify it as 4A only if the stenosis occurs in a branch not connected to the graft.\n",
      "- When encountering descriptive ranges like 'mild to moderate', always choose the more severe category. For example, 'mild to moderate' should be categorized as 'moderate'.\n",
      "- When presented with a range of stenosis percentages (e.g., '60-70%'), interpret it as the upper end of the range minus 1 (e.g., 69% for '60-70%').\n",
      "- When severe stenosis is mentioned in multiple branches or there is stenosis in the left main (LM), carefully review the conditions for CAD-RADS 4B to ensure accurate classification.\n",
      "- Do not assign 'None' for the CAD-RADS in any case. Always conclude with a CAD-RADS score from 0 to 5 based on the given information to the best of your ability.\n",
      "- Think step by step and provide the rationale and the final answer.\n",
      "- Do not provide any text after the final answer.\n"
     ]
    }
   ],
   "source": [
    "f = open(\"prompt_system_1016_cot_edit.txt\", 'r', encoding='utf-8')\n",
    "prompt_sys = f.read()\n",
    "f.close()\n",
    "print(prompt_sys)\n"
   ]
  },
  {
   "cell_type": "code",
   "execution_count": 26,
   "metadata": {},
   "outputs": [],
   "source": [
    "prompt_user_few = \"\"\"Please provide the rationale leading to the final answer, which I will supply. Reference the examples below for the format.\n",
    "===\"\"\""
   ]
  },
  {
   "cell_type": "code",
   "execution_count": 9,
   "metadata": {},
   "outputs": [],
   "source": [
    "if API=='gemini':\n",
    "    client = genai.GenerativeModel(\n",
    "        # model_name=\"gemini-1.5-flash\",\n",
    "        model_name=\"gemini-1.5-pro\",\n",
    "        generation_config={\n",
    "            \"temperature\": 0,\n",
    "            \"max_output_tokens\": MAX_OUTPUT_LENGTH,\n",
    "            \"response_mime_type\": \"text/plain\",\n",
    "            },\n",
    "        system_instruction=prompt_sys\n",
    "        )"
   ]
  },
  {
   "cell_type": "code",
   "execution_count": 27,
   "metadata": {},
   "outputs": [],
   "source": [
    "def get_response(API, client, prompt_sys, prompt): \n",
    "  if API == 'chatgpt':\n",
    "    response = client.chat.completions.create(\n",
    "      model=\"gpt-4-turbo\",\n",
    "      # model=\"gpt-4o\",\n",
    "      messages=[\n",
    "        {\n",
    "          \"role\": \"system\",\n",
    "          \"content\": [\n",
    "            {\n",
    "              \"type\": \"text\",\n",
    "              \"text\": prompt_sys,\n",
    "            }\n",
    "          ]\n",
    "        },\n",
    "        {\n",
    "          \"role\": \"user\",\n",
    "          \"content\": [\n",
    "            {\n",
    "              \"type\": \"text\",\n",
    "              \"text\": prompt\n",
    "            }\n",
    "          ]\n",
    "        }\n",
    "      ],\n",
    "      max_tokens=MAX_OUTPUT_LENGTH,\n",
    "      temperature=0,     \n",
    "      top_p=1,\n",
    "      frequency_penalty=0,\n",
    "      presence_penalty=0\n",
    "    )\n",
    "\n",
    "    return response.choices[0].message.content\n",
    "  \n",
    "  elif API == 'claude':\n",
    "    response = client.messages.create(\n",
    "      model=\"claude-3-5-sonnet-20240620\",\n",
    "      max_tokens=MAX_OUTPUT_LENGTH,\n",
    "      temperature=0,\n",
    "      system=prompt_sys,\n",
    "      messages=[\n",
    "          {\n",
    "              \"role\": \"user\",\n",
    "              \"content\": [\n",
    "                  {\n",
    "                      \"type\": \"text\",\n",
    "                      \"text\": prompt\n",
    "                  }\n",
    "              ]\n",
    "          }\n",
    "      ]\n",
    "    )\n",
    "    return response.content[0].text\n",
    "\n",
    "  elif API == 'gemini':\n",
    "    chat_session = client.start_chat()\n",
    "    response = chat_session.send_message(prompt)\n",
    "    return response.text\n"
   ]
  },
  {
   "cell_type": "code",
   "execution_count": 28,
   "metadata": {},
   "outputs": [],
   "source": [
    "trigger = \"Final Answer (CAD-RADS/Plaque Burden/Modifier):\""
   ]
  },
  {
   "cell_type": "code",
   "execution_count": 160,
   "metadata": {},
   "outputs": [],
   "source": [
    "def make_many_shot_prompt(base_prompt, final_answer, report, shots):\n",
    "    \"\"\"\n",
    "    Create a prompt with n-shot examples\n",
    "    \n",
    "    Args:\n",
    "        n (int): Number of shots to include\n",
    "        report (str): The target report to classify\n",
    "        shots (list): List of dictionaries containing shot examples with 'Report' and '0' columns\n",
    "        \n",
    "    Returns:\n",
    "        str: Formatted prompt with shots\n",
    "    \"\"\"\n",
    "    prompt = \"\"\n",
    "    for i, shot in enumerate(shots):\n",
    "        prompt += f\"Example {i+1}. The final answer should be '{shot['Label']}':\\n\\n\" + f\"### Report:\\n{shot['Report']}\\n\\n\"\n",
    "        prompt += f\"### Rationale: \\n{shot['0']}\\n===\\n\"\n",
    "    \n",
    "    prompt += f\"\"\"Now, provide the rationale leading to the final answer, '{final_answer}'. Follow exact same format like the examples:\n",
    "\n",
    "### Report: \\n{report}\\n\\n### Rationale:\\n\"\"\"\n",
    "    \n",
    "    prompt = base_prompt + '\\n' + prompt\n",
    "    return prompt"
   ]
  },
  {
   "cell_type": "code",
   "execution_count": 163,
   "metadata": {},
   "outputs": [
    {
     "name": "stderr",
     "output_type": "stream",
     "text": [
      "100%|██████████| 37/37 [05:05<00:00,  8.25s/it]\n"
     ]
    }
   ],
   "source": [
    "responses = []\n",
    "labels = []\n",
    "# for i in tqdm(range(0,1)):\n",
    "for i in tqdm(range(len(no_pool))):\n",
    "    sampled_shots = pool.sample(n=50)[['Report', 'Label', '0']].to_dict('records')\n",
    "\n",
    "    # Create prompt using the sampled shots\n",
    "    prompt = make_many_shot_prompt(\n",
    "        prompt_user_few,\n",
    "        final_answer=no_pool['Label'].iloc[i],\n",
    "        report=no_pool['Report'].iloc[i],\n",
    "        shots=sampled_shots\n",
    "    )\n",
    "\n",
    "    # print(prompt)\n",
    "    response = get_response(API, client, prompt_sys, prompt)\n",
    "\n",
    "    if trigger in response:\n",
    "        responses.append(response)\n",
    "    else:\n",
    "        print(f'Response {i} does not contain the final answer. Retrying.')\n",
    "        print(response)\n",
    "        new_response = get_response(API, client, prompt_sys, prompt + \"\\n\\n### Rationale:\\n\" + response + \"\\n\\n\" + trigger)\n",
    "        responses.append(response + \"\\n\\n\" + trigger + new_response)"
   ]
  },
  {
   "cell_type": "code",
   "execution_count": null,
   "metadata": {},
   "outputs": [],
   "source": [
    "no_pool['CoT'] = responses"
   ]
  },
  {
   "cell_type": "code",
   "execution_count": 216,
   "metadata": {},
   "outputs": [
    {
     "name": "stdout",
     "output_type": "stream",
     "text": [
      "4A/S\n",
      "Let's think through this step by step:\n",
      "\n",
      "1. CAD-RADS:\n",
      "- The most severe stenosis mentioned is \"PL branch orifice - discrete stenosis (75-80%) with noncalcified plaque.\"\n",
      "- When presented with a range like '75-80%', we interpret it as the upper end of the range minus 1, so 79%.\n",
      "- This falls into the CAD-RADS 4A category: 70-99% in a single vessel, Severe stenosis.\n",
      "- There's no mention of left main stenosis ≥50% or three-vessel disease ≥70%, so it doesn't qualify for 4B.\n",
      "- Therefore, the CAD-RADS score is 4A.\n",
      "\n",
      "2. Plaque Burden:\n",
      "- The report states \"Calcium score = 387.53\".\n",
      "- This falls into the P3 category: Severe, 301-999.\n",
      "- However, the presence of stents (modifier 'S') overrides the calcium score for determining plaque burden.\n",
      "- According to the requirements, when stents are present, the Plaque Burden should be reported as 'None'.\n",
      "\n",
      "3. Modifier:\n",
      "- The report mentions stents in multiple locations: \"LAD proximal and RCA proximal - stent in situ\" and \"PL branch - stent in situ\".\n",
      "- This corresponds to the modifier 'S' (Presence of stents).\n",
      "- No other modifiers (N, HRP, I, G, E) are applicable based on the given information.\n",
      "\n",
      "### Final Answer (CAD-RADS/Plaque Burden/Modifier): 4A/None/S\n"
     ]
    }
   ],
   "source": [
    "i=36\n",
    "print(no_pool['Label'].iloc[i])\n",
    "print(responses[i])"
   ]
  },
  {
   "cell_type": "code",
   "execution_count": 232,
   "metadata": {},
   "outputs": [],
   "source": [
    "data['CoT_from_claude'] =''\n",
    "for i in range(len(data)):\n",
    "    if i in pool_idx:\n",
    "        data.loc[i, 'CoT_from_claude'] = pool[pool['Unnamed: 0.2']==i]['0'].values[0]\n",
    "    else:\n",
    "        data.loc[i, 'CoT_from_claude'] = no_pool[no_pool['Unnamed: 0']==i]['CoT'].values[0]"
   ]
  },
  {
   "cell_type": "code",
   "execution_count": 237,
   "metadata": {},
   "outputs": [],
   "source": [
    "data.to_csv('manyshot_pool_all_from_claude.csv', index=False)"
   ]
  },
  {
   "cell_type": "code",
   "execution_count": 233,
   "metadata": {},
   "outputs": [
    {
     "name": "stdout",
     "output_type": "stream",
     "text": [
      "1\n",
      "Let's think through this step by step:\n",
      "\n",
      "1. CAD-RADS:\n",
      "- The report states \"Atherosclerosis with no significant stenosis in the coronary arteries.\"\n",
      "- The most severe stenosis mentioned is \"pLAD tiny calcification with minimal stenosis (<5%)\".\n",
      "- This falls into the CAD-RADS 1 category: 1-24%, Minimal non-obstructive CAD.\n",
      "- Even though the stenosis is <5%, the presence of calcification indicates some level of atherosclerosis, justifying a CAD-RADS score of 1 rather than 0.\n",
      "- Therefore, the CAD-RADS score is 1.\n",
      "\n",
      "2. Plaque Burden:\n",
      "- The report does not provide a specific coronary calcium score.\n",
      "- However, it mentions \"tiny calcification\" in the pLAD.\n",
      "- This suggests a very low calcium score, which would fall into the 'None' category: 0.\n",
      "- Therefore, the Plaque Burden is None.\n",
      "\n",
      "3. Modifier:\n",
      "- There are no mentions of stents, grafts, high-risk plaques, or other significant abnormalities.\n",
      "- The study appears to be diagnostic with no limitations mentioned.\n",
      "- There are no indications for any of the modifiers (N, HRP, I, S, G, or E).\n",
      "- Therefore, no modifier is applicable in this case.\n",
      "\n",
      "### Final Answer (CAD-RADS/Plaque Burden/Modifier): 1/None/None\n"
     ]
    }
   ],
   "source": [
    "i=60\n",
    "print(data.iloc[i]['Label'])\n",
    "print(data.iloc[i]['CoT_from_claude'])"
   ]
  },
  {
   "cell_type": "code",
   "execution_count": 234,
   "metadata": {},
   "outputs": [
    {
     "name": "stdout",
     "output_type": "stream",
     "text": [
      "3/P2\n",
      "Let's think through this step by step:\n",
      "\n",
      "1. CAD-RADS:\n",
      "- The most severe stenosis mentioned is \"LCx proximal - discrete stenosis (55-65%) with partially calcified plaque.\"\n",
      "- When presented with a range like '55-65%', we interpret it as the upper end of the range minus 1, so 64%.\n",
      "- This falls into the CAD-RADS 3 category: 50-69%, Moderate stenosis.\n",
      "- Therefore, the CAD-RADS score is 3.\n",
      "\n",
      "2. Plaque Burden:\n",
      "- The report states \"Calcium score = 170.2\".\n",
      "- This falls into the P2 category: Moderate, 101-300.\n",
      "- Therefore, the Plaque Burden is P2.\n",
      "\n",
      "3. Modifier:\n",
      "- There are no mentions of stents, grafts, or high-risk plaques.\n",
      "- The study appears to be diagnostic with no mention of motion artifacts or limited evaluation.\n",
      "- The aortic valvular calcifications mentioned do not qualify for the 'E' modifier as they are not a coronary artery abnormality.\n",
      "- Therefore, no modifiers are applicable in this case.\n",
      "\n",
      "### Final Answer (CAD-RADS/Plaque Burden/Modifier): 3/P2/None\n"
     ]
    }
   ],
   "source": [
    "i=61\n",
    "print(data.iloc[i]['Label'])\n",
    "print(data.iloc[i]['CoT_from_claude'])"
   ]
  },
  {
   "cell_type": "code",
   "execution_count": null,
   "metadata": {},
   "outputs": [],
   "source": []
  }
 ],
 "metadata": {
  "kernelspec": {
   "display_name": "Python 3",
   "language": "python",
   "name": "python3"
  },
  "language_info": {
   "codemirror_mode": {
    "name": "ipython",
    "version": 3
   },
   "file_extension": ".py",
   "mimetype": "text/x-python",
   "name": "python",
   "nbconvert_exporter": "python",
   "pygments_lexer": "ipython3",
   "version": "3.10.11"
  }
 },
 "nbformat": 4,
 "nbformat_minor": 2
}
